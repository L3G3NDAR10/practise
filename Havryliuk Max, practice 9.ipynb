{
  "cells": [
    {
      "cell_type": "markdown",
      "metadata": {
        "id": "FMqboNwO4rVs"
      },
      "source": [
        "# **Курс \"Програмування на мові Python\"**"
      ]
    },
    {
      "cell_type": "markdown",
      "metadata": {
        "id": "A2T6MigL5Z06"
      },
      "source": [
        "## **Практичне зайняття №10**\n",
        "\n",
        "### Тема: \"Лямбда-функції. Функції вищих порядків\""
      ]
    },
    {
      "cell_type": "markdown",
      "metadata": {
        "id": "cfCdgK2zXm7e"
      },
      "source": [
        "### **Завдання 1 (1 бал)**\n",
        "\n",
        "Продавець роздрібного товару влаштовує розпродаж. Для всіх товарів знижка однакова - 60%. Щоб вивісити нові цінники, продавець хоче скласти таблицю, в якій для кожного товару буде підрахована його нова вартість та сума знижки.\n",
        "\n",
        "Написати програму, яка буде генерувати таку таблицю. Вартість одиниць товарів до розпродажу подано у списку products_list. \n",
        "\n",
        "1. Для підрахунку невідомих значень повинні використовуватись вбудовані функції вищих порядків.\n",
        "\n",
        "2. Вартість з урахуванням знижки та суми знижок для кожного товару повинні зберігатись у двох окремих списках. Порядок товарів у нових списках повинен бути такий самий, як і в списку products_list.\n",
        "\n",
        "3. Кожне підраховане числове значення має бути округлене до сотих.\n",
        "\n",
        "4. Дані повинні виводитись у вигляді:\n",
        "\n",
        "**Discount table:**\n",
        "\n",
        "**15.89 6.36 9.53**\n",
        "\n",
        "**39.99 16.0 23.99**\n",
        "\n",
        "**...**\n",
        "\n",
        "\n",
        "products_list = [15.89, 39.99, 82.10, 135.85, 318.90, 510.00, 799.98]"
      ]
    },
    {
      "cell_type": "code",
      "execution_count": 2,
      "metadata": {
        "id": "ifNX2M7LXm7f"
      },
      "outputs": [
        {
          "name": "stdout",
          "output_type": "stream",
          "text": [
            "Discount table:\n",
            "15.89      6.36       9.53\n",
            "39.99      16.0      23.99\n",
            "82.1      32.84      49.26\n",
            "135.85    54.34      81.51\n",
            "318.9     127.56    191.34\n",
            "510.0     204.0      306.0\n",
            "799.98    319.99    479.99\n"
          ]
        }
      ],
      "source": [
        "products_list = [15.89, 39.99, 82.10, 135.85, 318.90, 510.00, 799.98]\n",
        "with_discount = list(map(lambda x:round((x-(x*0.6)),2),products_list))\n",
        "discount = list(map(lambda x:round((x-(x*0.4)),2),products_list))\n",
        "print('Discount table:')\n",
        "for i in range(len(products_list)):\n",
        "    print('{:<8}'.format(products_list[i]), '{:^8}'.format(with_discount[i]), '{:>8}'.format(discount[i]))"
      ]
    },
    {
      "cell_type": "markdown",
      "metadata": {},
      "source": [
        "### **Завдання 2 (2 бали)**\n",
        "\n",
        "Зазвичай рік має 365 днів. Однак у високосні роки додається ще один день - 29 лютого. Правила визначення високосного року такі:\n",
        "\n",
        "- Будь-який рік, що ділиться на 400 - високосний.\n",
        "\n",
        "- З тих років, що залишились, будь-який рік, що ділиться на 100 - **не** високосний.\n",
        "\n",
        "- З тих років, що залишились, будь-який рік, що ділиться на 4 - високосний.\n",
        "\n",
        "- Усі інші роки, що залишились - **не** високосні.\n",
        "\n",
        "1) Створіть функцію, в якій за допомогою вбудованих функцій вищих порядків будуть визначатися високосні роки серед перелічених років у списку years. Створена функція має повертати список високосних років.\n",
        "\n",
        "2) Створіть функцію вищих порядків, яка прийматиме на вхід попередню функцію та визначатиме кількість днів у місяці. Також функція повинна приймати на вхід ще 2 параметри: ціле число від 1 до 12 (місяць) та рік, як ціле чотирицифрове число. Ці значення корисувач має вводити з клавіатури. Перевірку введених даних слід виконувати поза межами функцій."
      ]
    },
    {
      "cell_type": "code",
      "execution_count": null,
      "metadata": {},
      "outputs": [],
      "source": [
        "import numpy as np\n",
        "years = np.arange(1900, 2020+1, 1)\n",
        "\n",
        "def leap_year():\n",
        "    leap_years = list(filter(lambda x: (x % 400 == 0) or (x % 4 == 0 and x % 100 != 0), years))\n",
        "    print('Leap years :', leap_years)\n",
        "    return leap_years\n",
        "\n",
        "def input_month(input_text,error):\n",
        "    while True:\n",
        "        try:\n",
        "            month = int(input(input_text))\n",
        "            if month not in range(1,13):\n",
        "                print(error)\n",
        "            else:\n",
        "                return month\n",
        "        except ValueError:\n",
        "            print(error)\n",
        "\n",
        "\n",
        "\n",
        "def input_year(input_text, error):\n",
        "    while True:\n",
        "        try:\n",
        "            year = int(input(input_text))\n",
        "            if year not in years:\n",
        "                print(error)\n",
        "            else:\n",
        "                return year\n",
        "        except ValueError:\n",
        "            print(error)\n",
        "\n",
        "def days_in_month(leap_years, month_input, year_input):\n",
        "    day_in_month={\n",
        "        1: 31,\n",
        "        2: 28,\n",
        "        3: 31,\n",
        "        4: 30,\n",
        "        5: 31,\n",
        "        6: 30,\n",
        "        7: 31,\n",
        "        8: 31,\n",
        "        9: 30,\n",
        "        10: 31,\n",
        "        11: 30,\n",
        "        12: 31\n",
        "    }\n",
        "    if year_input not in years:\n",
        "        print('There is no this year in list')\n",
        "    if year_input in leap_years:\n",
        "        day_in_month[2]=29\n",
        "        print('There is', day_in_month[month_input], 'days')\n",
        "    elif year_input not in leap_years:\n",
        "        print('There is', day_in_month[month_input], 'days')\n",
        "\n",
        "\n",
        "days_in_month(leap_year(),input_month('Enter month number (1 - January, 2 - February and so on) - ', 'Error! Make sure you put correct value.'),input_year('Enter year number (from 1900 to 2020) - ','Error! Make sure you put correct value.'))\n"
      ]
    }
  ],
  "metadata": {
    "colab": {
      "collapsed_sections": [],
      "name": "Practice_7_KM-01_.ipynb",
      "provenance": []
    },
    "kernelspec": {
      "display_name": "Python 3.10.7 64-bit",
      "language": "python",
      "name": "python3"
    },
    "language_info": {
      "codemirror_mode": {
        "name": "ipython",
        "version": 3
      },
      "file_extension": ".py",
      "mimetype": "text/x-python",
      "name": "python",
      "nbconvert_exporter": "python",
      "pygments_lexer": "ipython3",
      "version": "3.10.7"
    },
    "vscode": {
      "interpreter": {
        "hash": "a6d93055fb362c78d7d78eda532430b0a2e6ea6fe953212c95ecaf9f55e8bd5f"
      }
    }
  },
  "nbformat": 4,
  "nbformat_minor": 0
}
