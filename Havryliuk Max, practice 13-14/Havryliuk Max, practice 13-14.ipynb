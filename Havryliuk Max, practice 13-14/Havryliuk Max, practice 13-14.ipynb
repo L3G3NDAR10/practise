{
  "cells": [
    {
      "cell_type": "markdown",
      "metadata": {
        "id": "FMqboNwO4rVs"
      },
      "source": [
        "# **Курс \"Програмування на мові Python\"**"
      ]
    },
    {
      "cell_type": "markdown",
      "metadata": {
        "id": "A2T6MigL5Z06"
      },
      "source": [
        "## **Практичні зайняття №13-14**\n",
        "\n",
        "### Тема: \"Робота з файлами. Робота зі спеціальними форматами файлів\""
      ]
    },
    {
      "cell_type": "markdown",
      "metadata": {
        "id": "cfCdgK2zXm7e"
      },
      "source": [
        "### **Завдання 1 (1,5 бали)**\n",
        "\n",
        "У 1939 році друком вийшов роман американського письменика Ернеста Вінсента Райта \"Ґетсбі\". Особливу увагу публіки він здобув через те, що письменник жодного разу не використав у романі літеру \"e\" (роман складається з більше ніж 50,000 слів), яка є найбільш вживаною літерою в англійській мові.\n",
        "\n",
        "Порахуйте кількість входжень кожної літери у текст роману. Виведіть список літер англійського алфавіту, а також інформацію про те, скільки відсотків від усіх літер тексту складає кожна літера алфавіту.\n",
        "\n",
        "Зауваження:\n",
        "\n",
        "1. Програма має ігнорувати будь-які символи, окрім літер.\n",
        "\n",
        "2. Переведіть усі літери у верхній або у нижній регістр.\n",
        "\n",
        "3. Під час виведення відсортуйте літери у порядку зменшення їхнього відсотка. Літера \"e\" має стояти на останньому місці у цьому списку (хоча кілька літер e там все ж таки зустрічається).\n",
        "\n",
        "4. Виведіть перші 5 та останні 5 літер відсортованого списку разом з відсотковими значеннями, що їм відповідають. Відсотки округліть до тисячних."
      ]
    },
    {
      "cell_type": "code",
      "execution_count": 2,
      "metadata": {
        "id": "u4-fHJJ6U462",
        "tags": []
      },
      "outputs": [
        {
          "name": "stdout",
          "output_type": "stream",
          "text": [
            "--------------------------------------------------\n",
            "The number of inputed letter - 7648\n",
            "Part of inputed letter in file - 3.606 %\n"
          ]
        }
      ],
      "source": [
        "file = open('gadsby.txt', 'r')\n",
        "lines = file.read().lower()\n",
        "\n",
        "\n",
        "def amount(letter):\n",
        "    return sum(line.count(letter) for line in lines)\n",
        "\n",
        "\n",
        "def all_digits():\n",
        "    all_digits = 0\n",
        "    for alphas in lines:\n",
        "        if alphas.isalpha():\n",
        "            all_digits += 1\n",
        "        else:\n",
        "            all_digits += 0\n",
        "    return all_digits\n",
        "\n",
        "\n",
        "def part(letter):\n",
        "    print(f'{letter} - {round((amount(letter) / all_digits()) * 100, 3)} %')\n",
        "\n",
        "\n",
        "part('g')\n",
        "part('a')\n",
        "part('d')\n",
        "part('s')\n",
        "part('b')\n",
        "print('-'*15)\n",
        "part('f')\n",
        "part('i')\n",
        "part('n')\n",
        "part('i')\n",
        "part('s')"
      ]
    },
    {
      "cell_type": "markdown",
      "metadata": {
        "id": "A34oz70eU463"
      },
      "source": [
        "### **Завдання 2 (1,5 бали)**\n",
        "\n",
        "Архів archive.zip містить 140 txt-файлів, в яких збережено інфорамцію про те, якими іменами називали дітей у США в період з 1880 по 2019 рік.\n",
        "\n",
        "Структура рядка кожного файлу така:\n",
        "\n",
        "*name,sex,number_of_occurrences*\n",
        "\n",
        "Напишіть програму, яка зчитуватиме кожен файл та визначатиме окремо чоловічі, окремо жіночі імена, що були найпопулярнішими хоча б в один з років. Далі програма повинна підраховувати, скільки разів кожне з цих імен ставало найпопулярнишим, та виводити ранжовані списки чоловічіх та жіночих імен у вигляді:\n",
        "\n",
        "```\n",
        "Michael 44\n",
        "John 44\n",
        "Robert 17\n",
        "...\n",
        "\n",
        "Mary 76\n",
        "Jennifer 15\n",
        "Emily 12\n",
        "...\n",
        "```"
      ]
    },
    {
      "cell_type": "code",
      "execution_count": null,
      "metadata": {},
      "outputs": [],
      "source": []
    },
    {
      "cell_type": "markdown",
      "metadata": {},
      "source": [
        "### **Завдання 3 (1,5 бали)**\n",
        "\n",
        "Створіть CSV-файл, що буде містити від 5 до 10 пісень (творів) вашого улюбленого музиканта. Назва файлу - ім'я музиканта (композитора) або назва гурту.\n",
        "\n",
        "1. Обов'язково додайте до файлу рядок з назвами двох колонок (Song, Year) або (Composition, Year).\n",
        "\n",
        "2. Після запису файлу роздрукуйте назву файлу та усі наявні у файлі рядки (включно із заголовками).\n",
        "\n",
        "3. Для запису та зчитування рядків скористайтесь функціями csv.DictWriter() та csv.DictReader()."
      ]
    },
    {
      "cell_type": "code",
      "execution_count": 3,
      "metadata": {},
      "outputs": [
        {
          "name": "stdout",
          "output_type": "stream",
          "text": [
            "favorite_songs.csv\n",
            "Name                               Artist                               \n",
            "-----------------------------------------\n",
            "SimpsonWave1995              Warm Charlie\n",
            "Blue Loop                           Stiig\n",
            "A Real Hero                Electric Youth\n",
            "Vanished                  Crystal Castles\n",
            "Resonance                            HOME\n"
          ]
        }
      ],
      "source": [
        "import csv\n",
        "with open('favorite_songs.csv', 'w', newline='') as csvfile:\n",
        "    writer = csv.DictWriter(csvfile, fieldnames=['Name', 'Artist'])\n",
        "    writer.writeheader()\n",
        "    writer.writerow({'Name':'SimpsonWave1995',\n",
        "                     'Artist':'Warm Charlie'})\n",
        "    writer.writerow({'Name': 'Blue Loop',\n",
        "                     'Artist': 'Stiig'})\n",
        "    writer.writerow({'Name': 'A Real Hero',\n",
        "                     'Artist': 'Electric Youth'})\n",
        "    writer.writerow({'Name': 'Vanished',\n",
        "                     'Artist': 'Crystal Castles'})\n",
        "    writer.writerow({'Name': 'Resonance',\n",
        "                     'Artist': 'HOME'})\n",
        "    reader = csv.DictReader(csvfile)\n",
        "\n",
        "with open('favorite_songs.csv', newline='') as csvfile:\n",
        "    print(csvfile.name)\n",
        "    reader = csv.DictReader(csvfile)\n",
        "    for heading in reader.fieldnames:\n",
        "        print(heading, end='                               ')\n",
        "    print('\\n-----------------------------------------')\n",
        "    for row in reader:\n",
        "        print(f\"{row['Name']:<20} {row['Artist']:>20}\")"
      ]
    },
    {
      "cell_type": "markdown",
      "metadata": {},
      "source": [
        "### **Завдання 4 (1,5 бали)**\n",
        "\n",
        "COCO Dataset - набір фотографій та анотацій до них. Його дуже часто використовують для тренування класифікаторів, призначених для розпізнавання об'єктів та визначення ключових точок на зображеннях.\n",
        "\n",
        "Завантажте файли з описом фотографій COCO Dataset за посиланням: [COCO Dataset](http://images.cocodataset.org/annotations/image_info_test2017.zip).\n",
        "\n",
        "Відкрийте файл image_info_test-dev2017.json. Інформація про фотографії з бази COCO міститься у полі \"images\". Інформація про категорії, на які розділені всі фотографії, міститься у полі \"categories\".\n",
        "\n",
        "1. Визначте кількість фотографій, інформацію про які можна знайти у цьому файлі (кількість елементів, що відповідають ключу \"images\").\n",
        "\n",
        "2. Визначте кількість наявних категорій (кількість елементів, що відповідають ключу \"categories\").\n",
        "\n",
        "3. Виведіть посилання на фотографію 000000000001.jpg (\"coco_url\"). Також виведіть висоту цієї фотографії (\"height\"), ширину (\"width\") та її ідентифікатор (\"id\").\n",
        "\n",
        "4. Виведіть назву фотографії з набільшим номером.\n",
        "\n",
        "Опис структури JSON-файлу для набору фотографій COCO можна знайти за посиланням: [Data format](https://cocodataset.org/#format-data).\n",
        "\n",
        "Щоб перевірити правильність результатів, у VS Code встановіть розширення JSON та відкрийте файл image_info_test-dev2017.json. Розширення автоматично визначає кількість елементів у кожному полі."
      ]
    },
    {
      "cell_type": "code",
      "execution_count": 4,
      "metadata": {},
      "outputs": [
        {
          "name": "stdout",
          "output_type": "stream",
          "text": [
            "Images : 20288\n",
            "Categories : 80\n",
            "--------------------------------------------------\n",
            "Id : 1\n",
            "height : 480\n",
            "width : 640\n",
            "url : http://images.cocodataset.org/test2017/000000000001.jpg\n",
            "--------------------------------------------------\n",
            "Image with max id : 581918\n"
          ]
        }
      ],
      "source": [
        "import json\n",
        "with open('image_info_test-dev2017.json') as images:\n",
        "    data = json.load(images)\n",
        "\n",
        "print('Images :', len(data['images']))\n",
        "print('Categories :', len(data['categories']))\n",
        "\n",
        "print('-'*50)\n",
        "\n",
        "\n",
        "for image in data['images']:\n",
        "    if image['file_name'] == '000000000001.jpg':\n",
        "        print(f'Id : {image[\"id\"]}')\n",
        "        print(f'height : {image[\"height\"]}')\n",
        "        print(f'width : {image[\"width\"]}')\n",
        "        print(f'url : {image[\"coco_url\"]}')\n",
        "\n",
        "print('-'*50)\n",
        "\n",
        "max_id = data['images'][0]['id']\n",
        "for image in data['images']:\n",
        "    if max_id < image['id']:\n",
        "        max_id = image['id']\n",
        "\n",
        "print(f'Image with max id : {max_id}')"
      ]
    }
  ],
  "metadata": {
    "colab": {
      "collapsed_sections": [],
      "name": "Practice_14_KM_01.ipynb",
      "provenance": []
    },
    "kernelspec": {
      "display_name": "Python 3",
      "language": "python",
      "name": "python3"
    },
    "language_info": {
      "codemirror_mode": {
        "name": "ipython",
        "version": 3
      },
      "file_extension": ".py",
      "mimetype": "text/x-python",
      "name": "python",
      "nbconvert_exporter": "python",
      "pygments_lexer": "ipython3",
      "version": "3.10.7"
    },
    "vscode": {
      "interpreter": {
        "hash": "a6d93055fb362c78d7d78eda532430b0a2e6ea6fe953212c95ecaf9f55e8bd5f"
      }
    }
  },
  "nbformat": 4,
  "nbformat_minor": 0
}
